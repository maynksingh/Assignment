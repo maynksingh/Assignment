{
 "cells": [
  {
   "cell_type": "code",
   "execution_count": 2,
   "metadata": {},
   "outputs": [
    {
     "name": "stdout",
     "output_type": "stream",
     "text": [
      "Banglor\n"
     ]
    }
   ],
   "source": [
    "a = \"Banglor\"\n",
    "print(a)"
   ]
  },
  {
   "cell_type": "code",
   "execution_count": 6,
   "metadata": {},
   "outputs": [],
   "source": [
    "import math\n",
    "def volumeofsphere(d):\n",
    "    v = 4/3*math.pi*(d/2)**3\n",
    "    return  v"
   ]
  },
  {
   "cell_type": "code",
   "execution_count": 9,
   "metadata": {},
   "outputs": [
    {
     "data": {
      "text/plain": [
       "113.09733552923254"
      ]
     },
     "execution_count": 9,
     "metadata": {},
     "output_type": "execute_result"
    }
   ],
   "source": [
    "volumeofsphere(6)"
   ]
  },
  {
   "cell_type": "code",
   "execution_count": 13,
   "metadata": {},
   "outputs": [
    {
     "name": "stdout",
     "output_type": "stream",
     "text": [
      "2030\n",
      "2065\n",
      "2100\n",
      "2135\n",
      "2170\n",
      "2205\n",
      "2240\n",
      "2275\n",
      "2310\n",
      "2345\n",
      "2380\n",
      "2415\n",
      "2450\n",
      "2485\n",
      "2520\n",
      "2555\n",
      "2590\n",
      "2625\n",
      "2660\n",
      "2695\n",
      "2730\n",
      "2765\n",
      "2800\n",
      "2835\n",
      "2870\n",
      "2905\n",
      "2940\n",
      "2975\n",
      "3010\n",
      "3045\n",
      "3080\n",
      "3115\n",
      "3150\n",
      "3185\n"
     ]
    }
   ],
   "source": [
    "nl = []\n",
    "for i in range(2000,3200):\n",
    "    if (i%7==0) and (i%5==0):\n",
    "        print(i)"
   ]
  },
  {
   "cell_type": "code",
   "execution_count": 15,
   "metadata": {},
   "outputs": [
    {
     "name": "stdout",
     "output_type": "stream",
     "text": [
      "First Name Mayank\n",
      "Last Name Singh\n",
      "Singh Mayank\n"
     ]
    }
   ],
   "source": [
    "firstname = input(\"First Name \")\n",
    "lastname = input(\"Last Name \")\n",
    "print(lastname + \" \" + firstname)"
   ]
  },
  {
   "cell_type": "code",
   "execution_count": 19,
   "metadata": {},
   "outputs": [
    {
     "name": "stdout",
     "output_type": "stream",
     "text": [
      "the volume of sphere is  904.7779199999999\n"
     ]
    }
   ],
   "source": [
    "pi = 3.14159\n",
    "r = 6.0\n",
    "v = 4.0/3.0*pi*r**3\n",
    "print('the volume of sphere is ', v)"
   ]
  },
  {
   "cell_type": "code",
   "execution_count": 22,
   "metadata": {},
   "outputs": [
    {
     "name": "stdout",
     "output_type": "stream",
     "text": [
      "\n",
      "*\n",
      "**\n",
      "***\n",
      "****\n",
      "*****\n",
      "****\n",
      "***\n",
      "**\n",
      "*\n"
     ]
    }
   ],
   "source": [
    "n = 5\n",
    "for i in range(n):\n",
    "    for j in range(i):\n",
    "        print('*', end=\"\")\n",
    "    print()\n",
    "    \n",
    "for i in range(n,0,-1):\n",
    "    for j in range(i):\n",
    "        print('*', end=\"\")\n",
    "    print('')"
   ]
  },
  {
   "cell_type": "code",
   "execution_count": 8,
   "metadata": {},
   "outputs": [
    {
     "name": "stdout",
     "output_type": "stream",
     "text": [
      "Write a name: AcadGild\n",
      "dliGdacA"
     ]
    }
   ],
   "source": [
    "word = input(\"Write a name: \")\n",
    "for x in range(len(word) -1,-1,-1):\n",
    "    print(word[x], end=\"\")"
   ]
  },
  {
   "cell_type": "code",
   "execution_count": 16,
   "metadata": {},
   "outputs": [
    {
     "name": "stdout",
     "output_type": "stream",
     "text": [
      "WE, THE PEOPLE OF INDIA,\n",
      "\thaving solemnly resolved to constitute India into a SOVEREIGN,! \n",
      "\tSOCIALIST,SECULAR,DEMOCRATICREPUBLIC \n",
      "\t and to secure to all its citizens\n"
     ]
    }
   ],
   "source": [
    "print(\"WE, THE PEOPLE OF INDIA,\\n\\thaving solemnly resolved to constitute India into a SOVEREIGN,! \\n\\tSOCIALIST,SECULAR,DEMOCRATICREPUBLIC \\n\\t and to secure to all its citizens\")"
   ]
  },
  {
   "cell_type": "code",
   "execution_count": null,
   "metadata": {},
   "outputs": [],
   "source": []
  }
 ],
 "metadata": {
  "kernelspec": {
   "display_name": "Python 3",
   "language": "python",
   "name": "python3"
  },
  "language_info": {
   "codemirror_mode": {
    "name": "ipython",
    "version": 3
   },
   "file_extension": ".py",
   "mimetype": "text/x-python",
   "name": "python",
   "nbconvert_exporter": "python",
   "pygments_lexer": "ipython3",
   "version": "3.7.4"
  }
 },
 "nbformat": 4,
 "nbformat_minor": 2
}
